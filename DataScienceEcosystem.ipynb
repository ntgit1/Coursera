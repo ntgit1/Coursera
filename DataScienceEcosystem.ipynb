{
 "cells": [
  {
   "cell_type": "markdown",
   "id": "d488a5bf-ed95-4999-9152-85830182eec7",
   "metadata": {},
   "source": [
    "# Data Science Tools and Ecosystem"
   ]
  },
  {
   "cell_type": "markdown",
   "id": "d09f750d-1e7a-4b39-b6a2-a77b5aacd9e4",
   "metadata": {},
   "source": [
    "In this notebook, Data Science Tools and Ecosystem are summarized."
   ]
  },
  {
   "cell_type": "markdown",
   "id": "ded33200-bd8a-464c-8715-6188beff6114",
   "metadata": {},
   "source": [
    "Some of the popular languages that Data Scientists use are:"
   ]
  },
  {
   "cell_type": "markdown",
   "id": "74c132d4-195e-46fb-8219-d6d4032ae5c6",
   "metadata": {},
   "source": [
    "1. Python\n",
    "2. R\n",
    "3. C++"
   ]
  },
  {
   "cell_type": "markdown",
   "id": "465dd395-9dd4-4a00-a85d-091763766a2e",
   "metadata": {},
   "source": [
    "Some of the commonly used libraries used by Data Scientists include:\n",
    "\n",
    " 1. Pandas\n",
    " 2. NumPy\n",
    " 3. Scikit-learn"
   ]
  },
  {
   "cell_type": "markdown",
   "id": "bfc59d52-25ee-4cad-a8a5-8c83d50c7e44",
   "metadata": {},
   "source": [
    "| Data Science Tools|\n",
    "|-------------      |\n",
    "| MongoDB           |\n",
    "| Apache SparkSQL   |\n",
    "| TensorFlow        |"
   ]
  },
  {
   "cell_type": "markdown",
   "id": "ebf9a961-8b16-4c39-99b1-fc567b262826",
   "metadata": {},
   "source": [
    "### Below are a few examples of evaluating arithmetic expressions in Python"
   ]
  },
  {
   "cell_type": "code",
   "execution_count": 4,
   "id": "7588e388-e7aa-42b9-8b89-654706c25808",
   "metadata": {},
   "outputs": [
    {
     "data": {
      "text/plain": [
       "17"
      ]
     },
     "execution_count": 4,
     "metadata": {},
     "output_type": "execute_result"
    }
   ],
   "source": [
    "(3*4)+5"
   ]
  },
  {
   "cell_type": "markdown",
   "id": "7be7a541-2cb9-4d0d-967d-caf720723714",
   "metadata": {},
   "source": [
    " This will convert 200 minutes to hours by diving by 60"
   ]
  },
  {
   "cell_type": "code",
   "execution_count": 5,
   "id": "715c56af-18b9-4b79-bc2e-410ebbe6b271",
   "metadata": {},
   "outputs": [
    {
     "data": {
      "text/plain": [
       "3.3333333333333335"
      ]
     },
     "execution_count": 5,
     "metadata": {},
     "output_type": "execute_result"
    }
   ],
   "source": [
    "200 / 60"
   ]
  },
  {
   "cell_type": "markdown",
   "id": "dec87b09-8264-44f2-a1bc-a0422a53182a",
   "metadata": {},
   "source": [
    "**Objectives:**  \n",
    "Python  \n",
    "R  \n",
    "C++"
   ]
  },
  {
   "cell_type": "markdown",
   "id": "e2e46d1d-8ebc-4b1d-ac31-d058b496efd0",
   "metadata": {},
   "source": [
    "## Author  \n",
    "Najam Tariq"
   ]
  },
  {
   "cell_type": "code",
   "execution_count": null,
   "id": "bd0b9113-4d21-4845-9f88-623969b1ca46",
   "metadata": {},
   "outputs": [],
   "source": []
  }
 ],
 "metadata": {
  "kernelspec": {
   "display_name": "Python 3 (ipykernel)",
   "language": "python",
   "name": "python3"
  },
  "language_info": {
   "codemirror_mode": {
    "name": "ipython",
    "version": 3
   },
   "file_extension": ".py",
   "mimetype": "text/x-python",
   "name": "python",
   "nbconvert_exporter": "python",
   "pygments_lexer": "ipython3",
   "version": "3.11.9"
  }
 },
 "nbformat": 4,
 "nbformat_minor": 5
}
